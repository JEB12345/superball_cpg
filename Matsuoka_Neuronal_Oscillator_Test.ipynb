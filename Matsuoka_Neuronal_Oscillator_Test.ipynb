{
 "cells": [
  {
   "cell_type": "code",
   "execution_count": 1,
   "metadata": {
    "collapsed": false
   },
   "outputs": [
    {
     "name": "stdout",
     "output_type": "stream",
     "text": [
      "Using matplotlib backend: TkAgg\n",
      "Populating the interactive namespace from numpy and matplotlib\n"
     ]
    }
   ],
   "source": [
    "%pylab\n",
    "import PyDSTool as dst\n",
    "import numpy as np"
   ]
  },
  {
   "cell_type": "code",
   "execution_count": 2,
   "metadata": {
    "collapsed": false
   },
   "outputs": [],
   "source": [
    "# tau * u_dot_1 = -u_1 - w * y_2 - beta * v_1 + u_0\n",
    "# tau * u_dot_2 = -u_2 - w * y_1 - beta * v_2 + u_0\n",
    "# tau' * v_dot_1 = -v_1 + y_1\n",
    "# tau' * v_dot_2 = -v_2 + y_2\n",
    "# y_i = max(0,u_i)\n",
    "\n",
    "DSargs = dst.args()\n",
    "DSargs.name = 'Matsuoka_Neuronal_Oscillator_Test'\n",
    "DSargs.pars = {'tau_r': 2,\n",
    "               'tau_a': 12,\n",
    "               'a_2': 2,\n",
    "               'a_1': 2,\n",
    "               'b': 10,\n",
    "               's_1': 10,\n",
    "               's_2': 10 }\n",
    "DSargs.varspecs = {'x_1': '((s_1 - (b * f_1) - (a_2 * max(0,x_2))) - x_1) / tau_r',\n",
    "                   'x_2': '((s_2 - (b * f_2) - (a_1 * max(0,x_1))) - x_2) / tau_r',\n",
    "                   'f_1': '(max(0,x_1) - f_1) / tau_a',\n",
    "                   'f_2': '(max(0,x_2) - f_2) / tau_a',\n",
    "                   }\n",
    "DSargs.ics = {'x_1': 1,\n",
    "              'x_2': 0,\n",
    "              'f_1': 0,\n",
    "              'f_2': 0,\n",
    "              }\n",
    "DSargs.tdomain = [0,100]\n",
    "solver = dst.Generator.Vode_ODEsystem(DSargs)\n",
    "traj = solver.compute('CPG')\n",
    "pts = traj.sample(dt=0.001)"
   ]
  },
  {
   "cell_type": "code",
   "execution_count": 3,
   "metadata": {
    "collapsed": false
   },
   "outputs": [
    {
     "data": {
      "text/plain": [
       "<matplotlib.text.Text at 0x7f995204f750>"
      ]
     },
     "execution_count": 3,
     "metadata": {},
     "output_type": "execute_result"
    }
   ],
   "source": [
    "plt.plot(pts['t'], pts['x_1'])\n",
    "#plt.plot(pts['t'], pts['x_2'])\n",
    "plt.xlabel('time')\n",
    "plt.ylim([-8,8])\n",
    "plt.title(solver.name)"
   ]
  },
  {
   "cell_type": "code",
   "execution_count": 4,
   "metadata": {
    "collapsed": false
   },
   "outputs": [
    {
     "data": {
      "text/plain": [
       "<matplotlib.text.Text at 0x7f995204f750>"
      ]
     },
     "execution_count": 4,
     "metadata": {},
     "output_type": "execute_result"
    }
   ],
   "source": [
    "plt.plot(pts['t'], (pts['x_1'] - pts['x_2']))\n",
    "plt.plot(pts['t'], (pts['x_2'] - pts['x_1']))\n",
    "plt.xlabel('time')\n",
    "plt.ylim([0,12])\n",
    "plt.title(solver.name)"
   ]
  },
  {
   "cell_type": "code",
   "execution_count": 75,
   "metadata": {
    "collapsed": false
   },
   "outputs": [
    {
     "data": {
      "text/plain": [
       "<matplotlib.text.Text at 0x7fec8d501190>"
      ]
     },
     "execution_count": 75,
     "metadata": {},
     "output_type": "execute_result"
    }
   ],
   "source": [
    "newMax = 1\n",
    "plt.plot(pts['t'], (((pts['x_1'] - pts['x_2'])/float(max(pts['x_1'] - pts['x_2'])))*newMax))\n",
    "plt.plot(pts['t'], (((pts['x_2'] - pts['x_1'])/float(max(pts['x_2'] - pts['x_1'])))*newMax))\n",
    "plt.xlabel('time')\n",
    "plt.ylim([0,12])\n",
    "plt.title(solver.name)"
   ]
  },
  {
   "cell_type": "code",
   "execution_count": 90,
   "metadata": {
    "collapsed": false
   },
   "outputs": [],
   "source": [
    "# tau * u_dot_1 = -u_1 - w * y_2 - beta * v_1 + u_0\n",
    "# tau * u_dot_2 = -u_2 - w * y_1 - beta * v_2 + u_0\n",
    "# tau' * v_dot_1 = -v_1 + y_1\n",
    "# tau' * v_dot_2 = -v_2 + y_2\n",
    "# y_i = max(0,u_i)\n",
    "\n",
    "DSargs = dst.args()\n",
    "DSargs.name = 'Matsuoka_Neuronal_Oscillator_Test'\n",
    "DSargs.pars = {'tau_r': 2,\n",
    "               'tau_a': 10,\n",
    "               'b': 4 }\n",
    "DSargs.varspecs = {}\n",
    "DSargs.ics = {}\n",
    "\n",
    "num_cpgs = 3\n",
    "for idx in range(num_cpgs):\n",
    "    temp_pars = {'a_%d'%idx: 1.5,\n",
    "                 's_%d'%idx: 1+idx }\n",
    "    DSargs.pars.update(temp_pars)\n",
    "\n",
    "DSargs.varspecs = {'x_0': '((s_0 - (b * f_0) - (a_1 * max(0,x_1)) - (a_2 * max(0,x_2))) - x_0) / tau_r',\n",
    "                   'f_0': '(max(0,x_0) - f_0) / tau_a',\n",
    "                   'x_1': '((s_1 - (b * f_1) - (a_0 * max(0,x_0)) - (a_2 * max(0,x_2))) - x_1) / tau_r',\n",
    "                   'f_1': '(max(0,x_1) - f_1) / tau_a',\n",
    "                   'x_2': '((s_2 - (b * f_2) - (a_0 * max(0,x_0)) - (a_1 * max(0,x_1))) - x_2) / tau_r',\n",
    "                   'f_2': '(max(0,x_2) - f_2) / tau_a',\n",
    "                   }\n",
    "DSargs.ics = {'x_0': 0,\n",
    "              'f_0': 0,\n",
    "              'x_1': 0.5,\n",
    "              'f_1': 0,\n",
    "              'x_2': 1,\n",
    "              'f_2': 0,\n",
    "              }\n",
    "DSargs.tdomain = [0,200]\n",
    "solver = dst.Generator.Vode_ODEsystem(DSargs)\n",
    "traj = solver.compute('CPG')\n",
    "pts = traj.sample(dt=0.001)"
   ]
  },
  {
   "cell_type": "code",
   "execution_count": 91,
   "metadata": {
    "collapsed": false
   },
   "outputs": [
    {
     "data": {
      "text/plain": [
       "<matplotlib.text.Text at 0x7f3e91e370d0>"
      ]
     },
     "execution_count": 91,
     "metadata": {},
     "output_type": "execute_result"
    }
   ],
   "source": [
    "plt.figure(2)\n",
    "plt.plot(pts['t'], pts['x_0'])\n",
    "plt.plot(pts['t'], pts['x_1'])\n",
    "plt.plot(pts['t'], pts['x_2'])\n",
    "plt.xlabel('time')\n",
    "plt.ylim([0,3])\n",
    "plt.title(solver.name)"
   ]
  },
  {
   "cell_type": "code",
   "execution_count": 2,
   "metadata": {
    "collapsed": false
   },
   "outputs": [],
   "source": [
    "# tau * u_dot_1 = -u_1 - w * y_2 - beta * v_1 + u_0\n",
    "# tau * u_dot_2 = -u_2 - w * y_1 - beta * v_2 + u_0\n",
    "# tau' * v_dot_1 = -v_1 + y_1\n",
    "# tau' * v_dot_2 = -v_2 + y_2\n",
    "# y_i = max(0,u_i)\n",
    "\n",
    "DSargs = dst.args()\n",
    "DSargs.name = 'Matsuoka_Neuronal_Oscillator_Test'\n",
    "DSargs.pars = {'tau_r': 2,\n",
    "               'tau_a': 10,\n",
    "               'b': 10 }\n",
    "DSargs.varspecs = {}\n",
    "DSargs.ics = {}\n",
    "\n",
    "num_cpgs = 6\n",
    "for idx in range(num_cpgs):\n",
    "    temp_pars = {'a_%d'%idx: 1.5,\n",
    "                 's_%d'%idx: 2 }\n",
    "    DSargs.pars.update(temp_pars)\n",
    "    \n",
    "    if(idx == (num_cpgs-1)):\n",
    "        temp_varspecs = {'x_%d'%idx: '((s_{current} - (b * f_{current}) - (a_{first} * max(0,x_{first})) - (a_{previous} * max(0,x_{previous}))) - x_{current}) / tau_r'.format(current = idx, first = 0, previous = idx-1),\n",
    "                         'f_%d'%idx: '(max(0,x_{current}) - f_{current}) / tau_a'.format(current = idx)\n",
    "                        }\n",
    "    elif(idx == 0):\n",
    "        temp_varspecs = {'x_%d'%idx: '((s_{current} - (b * f_{current}) - (a_{next} * max(0,x_{next})) - (a_{last} * max(0,x_{last}))) - x_{current}) / tau_r'.format(current = idx, next = idx+1, last = num_cpgs-1),\n",
    "                         'f_%d'%idx: '(max(0,x_{current}) - f_{current}) / tau_a'.format(current = idx)\n",
    "                        }\n",
    "    else:\n",
    "        temp_varspecs = {'x_%d'%idx: '((s_{current} - (b * f_{current}) - (a_{next} * max(0,x_{next})) - (a_{previous} * max(0,x_{previous}))) - x_{current}) / tau_r'.format(current = idx, next = idx+1, previous = idx-1),\n",
    "                         'f_%d'%idx: '(max(0,x_{current}) - f_{current}) / tau_a'.format(current = idx)\n",
    "                        }\n",
    "    DSargs.varspecs.update(temp_varspecs)\n",
    "    \n",
    "    if('x' in temp_varspecs.keys()[0]):\n",
    "        DSargs.ics.update({'%s'%temp_varspecs.keys()[0]: idx/((num_cpgs-1)),\n",
    "                           '%s'%temp_varspecs.keys()[1]: 0,})\n",
    "    else:\n",
    "        DSargs.ics.update({'%s'%temp_varspecs.keys()[0]: 0,\n",
    "                           '%s'%temp_varspecs.keys()[1]: idx/((num_cpgs-1)),})\n",
    "\n",
    "DSargs.tdomain = [0,100]\n",
    "solver = dst.Generator.Vode_ODEsystem(DSargs)\n",
    "traj = solver.compute('CPG')\n",
    "pts = traj.sample(dt=0.001)"
   ]
  },
  {
   "cell_type": "code",
   "execution_count": 3,
   "metadata": {
    "collapsed": false
   },
   "outputs": [
    {
     "data": {
      "text/plain": [
       "<matplotlib.text.Text at 0x7fec8f83ec50>"
      ]
     },
     "execution_count": 3,
     "metadata": {},
     "output_type": "execute_result"
    }
   ],
   "source": [
    "for o in range(num_cpgs):\n",
    "    plt.plot(pts['t'], pts['x_%d'%o]) \n",
    "plt.xlabel('time')\n",
    "plt.ylim([0,4])\n",
    "plt.title(solver.name)"
   ]
  },
  {
   "cell_type": "code",
   "execution_count": 4,
   "metadata": {
    "collapsed": false,
    "scrolled": true
   },
   "outputs": [],
   "source": [
    "test = linspace(0.22,1,num=1)\n",
    "num = 0\n",
    "for idx in test:\n",
    "    for m in range(num_cpgs):\n",
    "        DSargs.pars.pop('a_%d'%m)\n",
    "        temp_pars = {'a_%d'%m: (m+1)*idx,}\n",
    "        DSargs.pars.update(temp_pars)\n",
    "#    DSargs.pars.pop('tau_r')\n",
    "#    DSargs.pars.update({'tau_r': 1/idx})\n",
    "    solver = dst.Generator.Vode_ODEsystem(DSargs)\n",
    "    traj = solver.compute('CPG')\n",
    "    pts = traj.sample(dt=0.001)\n",
    "    \n",
    "    num = num+1\n",
    "    plt.figure(num)\n",
    "    for o in range(num_cpgs):\n",
    "        plt.plot(pts['t'], pts['x_%d'%o]) \n",
    "    plt.xlabel('time')\n",
    "    plt.ylim([0,0.8])\n",
    "    plt.xlim([12,18])\n",
    "    plt.title('{name} {num}'.format(name=solver.name,num=idx))"
   ]
  },
  {
   "cell_type": "code",
   "execution_count": 83,
   "metadata": {
    "collapsed": false
   },
   "outputs": [
    {
     "data": {
      "text/plain": [
       "{'a_0': 0.22,\n",
       " 'a_1': 0.44,\n",
       " 'a_2': 0.66000000000000003,\n",
       " 'a_3': 0.88,\n",
       " 'a_4': 1.1000000000000001,\n",
       " 'a_5': 1.3200000000000001,\n",
       " 'b': 10,\n",
       " 's_0': 2,\n",
       " 's_1': 2,\n",
       " 's_2': 2,\n",
       " 's_3': 2,\n",
       " 's_4': 2,\n",
       " 's_5': 2,\n",
       " 'tau_a': 10,\n",
       " 'tau_r': 2}"
      ]
     },
     "execution_count": 83,
     "metadata": {},
     "output_type": "execute_result"
    }
   ],
   "source": [
    "DSargs.pars"
   ]
  },
  {
   "cell_type": "code",
   "execution_count": null,
   "metadata": {
    "collapsed": true
   },
   "outputs": [],
   "source": []
  }
 ],
 "metadata": {
  "kernelspec": {
   "display_name": "Python 2",
   "language": "python",
   "name": "python2"
  },
  "language_info": {
   "codemirror_mode": {
    "name": "ipython",
    "version": 2
   },
   "file_extension": ".py",
   "mimetype": "text/x-python",
   "name": "python",
   "nbconvert_exporter": "python",
   "pygments_lexer": "ipython2",
   "version": "2.7.6"
  }
 },
 "nbformat": 4,
 "nbformat_minor": 0
}
