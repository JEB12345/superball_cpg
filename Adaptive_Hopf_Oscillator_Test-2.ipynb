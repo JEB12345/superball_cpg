{
 "cells": [
  {
   "cell_type": "code",
   "execution_count": 2,
   "metadata": {
    "collapsed": false
   },
   "outputs": [
    {
     "name": "stdout",
     "output_type": "stream",
     "text": [
      "Using matplotlib backend: TkAgg\n",
      "Populating the interactive namespace from numpy and matplotlib\n"
     ]
    }
   ],
   "source": [
    "%pylab\n",
    "import PyDSTool as dst\n",
    "import numpy as np"
   ]
  },
  {
   "cell_type": "code",
   "execution_count": 93,
   "metadata": {
    "collapsed": false
   },
   "outputs": [],
   "source": [
    "##### Cartisian \n",
    "# x_dot_i = gamma*(mu - r_i^2)*x_i - omega_i*y_i + eps*F + tau*sin(R_i - theta_i)\n",
    "# y_dot_i = gamma*(mu - r_i^2)*y_i + omega_i*x_i\n",
    "# omega_dot_i = -esp*F*(y_i/r_i)\n",
    "# alpha_dot_i = nu*x_i*F\n",
    "# theta_dot_i = sin(R_i - sgn(x_i)*cos^-1(-(y_i/r_i)))\n",
    "\n",
    "# r = sqrt(x_i^2 + y_i^2)\n",
    "# R_i = (omega_i/omega_0)*sgn(x_0)*cos^-1(-(y_0/sqrt(x_0^2 + y_0^2)))\n",
    "# F = signal [P_teach - sum(alpha_i*x_i)]\n",
    "# P_teach = 0.8*sin(15*t)+cos(30*t)-1.4*sin(45*t)-0.5*cos(60*t)\n",
    "\n",
    "\n",
    "DSargs = dst.args()\n",
    "DSargs.name = 'Adaptive_multi_Hopf_Oscillator_Test'\n",
    "DSargs.pars = {'gamma1': 8.,\n",
    "               'mu1': 1.,\n",
    "               'tau1': 2.,\n",
    "               'nu1': 0.5,\n",
    "               'esp': 0.9,\n",
    "               }\n",
    "DSargs.varspecs = {}\n",
    "DSargs.ics = {}\n",
    "\n",
    "P_teach = '(0.8*sin(2.*t)+cos(8.*t)-1.4*sin(15.*t)-0.5*cos(25.*t))'\n",
    "\n",
    "num_cpgs = 4\n",
    "temp_string = '(alpha_0*x_0'\n",
    "for idx in range(num_cpgs-1):\n",
    "    if(idx+1 == num_cpgs-1):\n",
    "        temp_string = temp_string + ' + alpha_{i}*x_{i})'.format(i = idx+1)\n",
    "    else:\n",
    "        temp_string = temp_string + ' + alpha_{i}*x_{i}'.format(i = idx+1)\n",
    "    \n",
    "for idx in range(num_cpgs):\n",
    "    if(idx == 0):\n",
    "        temp_varspecs = {'x_%d'%idx: 'gamma1*(mu1 - (sqrt(x_{i}^2 + y_{i}^2))^2)*x_{i} - omega_{i}*y_{i} + esp*({P} - {F}) + tau1*sin((omega_{i}/omega_0)*sign(x_0)*cos(-(y_0/sqrt(x_0^2 + y_0^2)))^-1 - theta_{i})'.format(i = idx, P = P_teach, F = temp_string),\n",
    "                         'y_%d'%idx: 'gamma1*(mu1 - (sqrt(x_{i}^2 + y_{i}^2))^2)*y_{i} + omega_{i}*x_{i}'.format(i = idx),\n",
    "                         'omega_%d'%idx: '-esp*({P} - {F})*(y_{i}/sqrt(x_{i}^2 + y_{i}^2))'.format(i = idx, P = P_teach, F = temp_string),\n",
    "                         'alpha_%d'%idx: 'nu1*x_{i}*({P} - {F})'.format(i = idx, P = P_teach, F = temp_string),\n",
    "                         'theta_%d'%idx: '0',\n",
    "                        }\n",
    "\n",
    "        DSargs.varspecs.update(temp_varspecs)\n",
    "    else:\n",
    "        temp_varspecs = {'x_%d'%idx: 'gamma1*(mu1 - (sqrt(x_{i}^2 + y_{i}^2))^2)*x_{i} - omega_{i}*y_{i} + esp*({P} - {F}) + tau1*sin((omega_{i}/omega_0)*sign(x_0)*cos(-(y_0/sqrt(x_0^2 + y_0^2)))^-1 - theta_{i})'.format(i = idx, P = P_teach, F = temp_string),\n",
    "                         'y_%d'%idx: 'gamma1*(mu1 - (sqrt(x_{i}^2 + y_{i}^2))^2)*y_{i} + omega_{i}*x_{i}'.format(i = idx),\n",
    "                         'omega_%d'%idx: '-esp*({P} - {F})*(y_{i}/sqrt(x_{i}^2 + y_{i}^2))'.format(i = idx, P = P_teach, F = temp_string),\n",
    "                         'alpha_%d'%idx: 'nu1*x_{i}*({P} - {F})'.format(i = idx, P = P_teach, F = temp_string),\n",
    "                         'theta_%d'%idx: 'sin((omega_{i}/omega_0)*sign(x_0)*cos(-(y_0/sqrt(x_0^2 + y_0^2)))^-1 - sign(x_{i})*cos(-(y_{i}/sqrt(x_{i}^2 + y_{i}^2)))^-1)'.format(i = idx),\n",
    "                        }\n",
    "\n",
    "        DSargs.varspecs.update(temp_varspecs)\n",
    "    \n",
    "for idx in range(len(DSargs.varspecs.keys())):\n",
    "    if('x' in DSargs.varspecs.keys()[idx]):\n",
    "        DSargs.ics.update({'%s'%DSargs.varspecs.keys()[idx]: 1.})\n",
    "    elif('omega' in DSargs.varspecs.keys()[idx]):\n",
    "        DSargs.ics.update({'%s'%DSargs.varspecs.keys()[idx]: idx*2.})\n",
    "    else:\n",
    "        DSargs.ics.update({'%s'%DSargs.varspecs.keys()[idx]: 0.})\n",
    "    \n",
    "DSargs.tdomain = [0,500]\n",
    "solver = dst.Generator.Vode_ODEsystem(DSargs) #Vode_ODEsystem(DSargs)\n",
    "traj = solver.compute('CPG')\n",
    "pts = traj.sample(dt=1)"
   ]
  },
  {
   "cell_type": "code",
   "execution_count": 94,
   "metadata": {
    "collapsed": false
   },
   "outputs": [],
   "source": [
    "pts = traj.sample(dt=0.001)"
   ]
  },
  {
   "cell_type": "code",
   "execution_count": 102,
   "metadata": {
    "collapsed": false
   },
   "outputs": [
    {
     "data": {
      "text/plain": [
       "<matplotlib.text.Text at 0x7fb139f8d9d0>"
      ]
     },
     "execution_count": 102,
     "metadata": {},
     "output_type": "execute_result"
    }
   ],
   "source": [
    "plt.plot(pts['t'], (pts['alpha_0']*pts['x_0'] + pts['alpha_1']*pts['x_1'] + pts['alpha_2']*pts['x_2'] + pts['alpha_3']*pts['x_3']))\n",
    "#plt.plot(pts['t'], pts['y'])\n",
    "plt.xlabel('time')\n",
    "#plt.xlim([999,1000])\n",
    "#plt.ylim([-8,8])\n",
    "plt.title(solver.name)"
   ]
  },
  {
   "cell_type": "code",
   "execution_count": 96,
   "metadata": {
    "collapsed": false
   },
   "outputs": [
    {
     "data": {
      "text/plain": [
       "(0, 250)"
      ]
     },
     "execution_count": 96,
     "metadata": {},
     "output_type": "execute_result"
    }
   ],
   "source": [
    "plt.plot(pts['t'], pts['x_0'])\n",
    "plt.xlim([0,250])"
   ]
  },
  {
   "cell_type": "code",
   "execution_count": 100,
   "metadata": {
    "collapsed": false
   },
   "outputs": [
    {
     "data": {
      "text/plain": [
       "(0, 250)"
      ]
     },
     "execution_count": 100,
     "metadata": {},
     "output_type": "execute_result"
    }
   ],
   "source": [
    "plt.plot(pts['t'], pts['omega_3'])\n",
    "plt.xlim([0,250])"
   ]
  },
  {
   "cell_type": "code",
   "execution_count": null,
   "metadata": {
    "collapsed": true
   },
   "outputs": [],
   "source": []
  }
 ],
 "metadata": {
  "kernelspec": {
   "display_name": "Python 2",
   "language": "python",
   "name": "python2"
  },
  "language_info": {
   "codemirror_mode": {
    "name": "ipython",
    "version": 2
   },
   "file_extension": ".py",
   "mimetype": "text/x-python",
   "name": "python",
   "nbconvert_exporter": "python",
   "pygments_lexer": "ipython2",
   "version": "2.7.6"
  }
 },
 "nbformat": 4,
 "nbformat_minor": 0
}
