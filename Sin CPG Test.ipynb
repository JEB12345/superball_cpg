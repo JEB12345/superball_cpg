{
 "cells": [
  {
   "cell_type": "code",
   "execution_count": 1,
   "metadata": {
    "collapsed": false
   },
   "outputs": [
    {
     "name": "stdout",
     "output_type": "stream",
     "text": [
      "Using matplotlib backend: TkAgg\n",
      "Populating the interactive namespace from numpy and matplotlib\n"
     ]
    }
   ],
   "source": [
    "%pylab\n",
    "import PyDSTool as dst\n",
    "import numpy as np"
   ]
  },
  {
   "cell_type": "code",
   "execution_count": 2,
   "metadata": {
    "collapsed": false
   },
   "outputs": [],
   "source": [
    "#theta_dot_i = 2*pi*vi + SUM(w_ij * sin(theta_j - theta_i - phi_ij)\n",
    "\n",
    "DSargs = dst.args()\n",
    "DSargs.name = 'CPG Test'\n",
    "DSargs.pars = {'v_i': 1,\n",
    "               'v_j': 1,\n",
    "               'w_ij': 1,\n",
    "               'w_ji': 1,\n",
    "               'phi_ij': 0.1,\n",
    "               'phi_ji': 0.1}\n",
    "DSargs.varspecs = {'theta_i': '(2*pi*v_i) + (w_ij * sin(theta_j - theta_i - phi_ij))',\n",
    "                   'theta_j': '(2*pi*v_j) + (w_ji * sin(theta_i - theta_j - phi_ji))'}\n",
    "DSargs.ics = {'theta_i': 0,\n",
    "              'theta_j': np.pi}\n",
    "DSargs.tdomain = [0,1]\n",
    "solver = dst.Generator.Vode_ODEsystem(DSargs)\n",
    "traj = solver.compute('CPG')\n",
    "pts = traj.sample(dt=0.01)"
   ]
  },
  {
   "cell_type": "code",
   "execution_count": 5,
   "metadata": {
    "collapsed": false
   },
   "outputs": [
    {
     "data": {
      "text/plain": [
       "<matplotlib.text.Text at 0x7fdb151a4c10>"
      ]
     },
     "execution_count": 5,
     "metadata": {},
     "output_type": "execute_result"
    }
   ],
   "source": [
    "x_i = (1 + np.cos(pts['theta_i']))\n",
    "x_j = (1 + np.cos(pts['theta_j']))\n",
    "\n",
    "#plt.plot(pts['t'], pts['theta_i'])\n",
    "#plt.plot(pts['t'], pts['theta_j'])\n",
    "plt.plot(pts['t'], x_i)\n",
    "plt.plot(pts['t'], x_j)\n",
    "plt.xlabel('time')\n",
    "plt.title(solver.name)"
   ]
  },
  {
   "cell_type": "code",
   "execution_count": 3,
   "metadata": {
    "collapsed": false
   },
   "outputs": [
    {
     "name": "stdout",
     "output_type": "stream",
     "text": [
      "Trajectory test\n"
     ]
    }
   ],
   "source": [
    "print solver.compute('test')"
   ]
  },
  {
   "cell_type": "code",
   "execution_count": 4,
   "metadata": {
    "collapsed": false
   },
   "outputs": [
    {
     "data": {
      "text/plain": [
       "Generator CPG Test"
      ]
     },
     "execution_count": 4,
     "metadata": {},
     "output_type": "execute_result"
    }
   ],
   "source": [
    "solver"
   ]
  },
  {
   "cell_type": "code",
   "execution_count": null,
   "metadata": {
    "collapsed": true
   },
   "outputs": [],
   "source": []
  }
 ],
 "metadata": {
  "kernelspec": {
   "display_name": "Python 2",
   "language": "python",
   "name": "python2"
  },
  "language_info": {
   "codemirror_mode": {
    "name": "ipython",
    "version": 2
   },
   "file_extension": ".py",
   "mimetype": "text/x-python",
   "name": "python",
   "nbconvert_exporter": "python",
   "pygments_lexer": "ipython2",
   "version": "2.7.6"
  }
 },
 "nbformat": 4,
 "nbformat_minor": 0
}
