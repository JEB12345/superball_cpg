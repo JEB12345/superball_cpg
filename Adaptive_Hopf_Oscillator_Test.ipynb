{
 "cells": [
  {
   "cell_type": "code",
   "execution_count": 1,
   "metadata": {
    "collapsed": false
   },
   "outputs": [
    {
     "name": "stdout",
     "output_type": "stream",
     "text": [
      "Using matplotlib backend: TkAgg\n",
      "Populating the interactive namespace from numpy and matplotlib\n"
     ]
    }
   ],
   "source": [
    "%pylab\n",
    "import PyDSTool as dst\n",
    "import numpy as np"
   ]
  },
  {
   "cell_type": "code",
   "execution_count": 187,
   "metadata": {
    "collapsed": false
   },
   "outputs": [],
   "source": [
    "##### Cartisian \n",
    "# x_dot = (mu - r^2)*x - omega*y + eps*F\n",
    "# y_dot = (mu - r^2)*y + omega*x\n",
    "# omega_dot = -esp*F*(y/(square(x^2 + y^2)))\n",
    "# F = signal [cos(30t)]\n",
    "\n",
    "DSargs = dst.args()\n",
    "DSargs.name = 'Adaptive_Hopf_Oscillator_Test'\n",
    "DSargs.pars = {'mu': 1,\n",
    "               'esp': 0.9,\n",
    "               }\n",
    "DSargs.varspecs = {'x': '(mu - (sqrt(x^2 + y^2))^2)*x - omega*y + esp*cos(30*t)',\n",
    "                   'y': '(mu - (sqrt(x^2 + y^2))^2)*y + omega*x',\n",
    "                   'omega': '-esp*cos(30*t)*(y/sqrt(x^2 + y^2))',\n",
    "                   }\n",
    "DSargs.ics = {'x': 1,\n",
    "              'y': 0,\n",
    "              'omega': 40,\n",
    "              }\n",
    "DSargs.tdomain = [0,1000]\n",
    "solver = dst.Generator.Vode_ODEsystem(DSargs) #Vode_ODEsystem(DSargs)\n",
    "traj = solver.compute('CPG')\n",
    "pts = traj.sample(dt=0.001)"
   ]
  },
  {
   "cell_type": "code",
   "execution_count": 188,
   "metadata": {
    "collapsed": false
   },
   "outputs": [
    {
     "data": {
      "text/plain": [
       "<matplotlib.text.Text at 0x7f1d8bb57690>"
      ]
     },
     "execution_count": 188,
     "metadata": {},
     "output_type": "execute_result"
    }
   ],
   "source": [
    "plt.plot(pts['t'], pts['x'])\n",
    "#plt.plot(pts['t'], pts['y'])\n",
    "plt.xlabel('time')\n",
    "#plt.ylim([-8,8])\n",
    "plt.title(solver.name)"
   ]
  },
  {
   "cell_type": "code",
   "execution_count": 189,
   "metadata": {
    "collapsed": false
   },
   "outputs": [
    {
     "data": {
      "text/plain": [
       "[<matplotlib.lines.Line2D at 0x7f1d8b9e8f50>]"
      ]
     },
     "execution_count": 189,
     "metadata": {},
     "output_type": "execute_result"
    }
   ],
   "source": [
    "plt.plot(pts['t'], pts['omega'])\n",
    "#plt.ylim([20,50])"
   ]
  },
  {
   "cell_type": "code",
   "execution_count": 155,
   "metadata": {
    "collapsed": false
   },
   "outputs": [],
   "source": [
    "#### Polar Space\n",
    "# x_dot = (mu - r^2)*x - omega*y + eps*F\n",
    "# y_dot = (mu - r^2)*y + omega*x\n",
    "# omega_dot = -esp*F*(y/(square(x^2 + y^2)))\n",
    "# F = signal [cos(30t)]\n",
    "\n",
    "DSargs = dst.args()\n",
    "DSargs.name = 'Adaptive_Hopf_Oscillator_Test'\n",
    "DSargs.pars = {'mu': 1.,\n",
    "               'esp': 2.,\n",
    "               }\n",
    "DSargs.varspecs = {'r': '(mu - r^2)*r + esp*cos(2.*t)*cos(theta)',\n",
    "                   'theta': 'omega - (esp/r)*cos(2.*t)*sin(theta)',\n",
    "                   'omega': '-esp*cos(2.*t)*sin(theta)',\n",
    "                   }\n",
    "DSargs.ics = {'r': 1,\n",
    "              'theta': 0,\n",
    "              'omega': 1.,\n",
    "              }\n",
    "DSargs.tdomain = [0,20]\n",
    "solver = dst.Generator.Vode_ODEsystem(DSargs) #Vode_ODEsystem(DSargs)\n",
    "traj = solver.compute('CPG')\n",
    "pts = traj.sample(dt=0.001)"
   ]
  },
  {
   "cell_type": "code",
   "execution_count": 161,
   "metadata": {
    "collapsed": false
   },
   "outputs": [
    {
     "data": {
      "text/plain": [
       "<matplotlib.text.Text at 0x7f1d92f51710>"
      ]
     },
     "execution_count": 161,
     "metadata": {},
     "output_type": "execute_result"
    }
   ],
   "source": [
    "plt.plot(pts['t'], pts['theta'])\n",
    "plt.plot(pts['t'], np.cos(2*pts['t']))\n",
    "plt.xlabel('time')\n",
    "#plt.ylim([-8,8])\n",
    "plt.title(solver.name)"
   ]
  },
  {
   "cell_type": "code",
   "execution_count": 158,
   "metadata": {
    "collapsed": false
   },
   "outputs": [
    {
     "data": {
      "text/plain": [
       "[<matplotlib.lines.Line2D at 0x7f1d9331c5d0>]"
      ]
     },
     "execution_count": 158,
     "metadata": {},
     "output_type": "execute_result"
    }
   ],
   "source": [
    "plt.plot(pts['t'], pts['omega'])\n",
    "#plt.ylim([20,50])"
   ]
  },
  {
   "cell_type": "code",
   "execution_count": 144,
   "metadata": {
    "collapsed": false
   },
   "outputs": [],
   "source": [
    "#### Adaptive Fitzhugh-Nagumo oscillator\n",
    "# x_dot = x(x - a)(1 - x) - y + esp*F\n",
    "# y_dot = omega*(x - b*y)\n",
    "# omega_dot = -esp*F*(y/(square(x^2 + y^2)))\n",
    "# F = signal [sin(8t)]\n",
    "\n",
    "DSargs = dst.args()\n",
    "DSargs.name = 'Adaptive_Hopf_Oscillator_Test'\n",
    "DSargs.pars = {'a': -5.,\n",
    "               'b': 0.01,\n",
    "               'esp': 10.,\n",
    "               }\n",
    "DSargs.varspecs = {'x': 'x*(x - a)*(1 - x) - y + esp*sin(8*t)',\n",
    "                   'y': 'omega*(x - b*y)',\n",
    "                   'omega': '-esp*sin(8*t)*(y/(sqrt(x^2 + y^2)))',\n",
    "                   }\n",
    "DSargs.ics = {'x': 1,\n",
    "              'y': 0,\n",
    "              'omega': 180.,\n",
    "              }\n",
    "DSargs.tdomain = [0,350]\n",
    "solver = dst.Generator.Vode_ODEsystem(DSargs) #Vode_ODEsystem(DSargs)\n",
    "traj = solver.compute('CPG')\n",
    "pts = traj.sample(dt=0.001)"
   ]
  },
  {
   "cell_type": "code",
   "execution_count": 145,
   "metadata": {
    "collapsed": false,
    "scrolled": true
   },
   "outputs": [
    {
     "data": {
      "text/plain": [
       "<matplotlib.text.Text at 0x7f1d93015f90>"
      ]
     },
     "execution_count": 145,
     "metadata": {},
     "output_type": "execute_result"
    }
   ],
   "source": [
    "plt.plot(pts['t'], pts['x'])\n",
    "plt.plot(pts['t'], np.sin(8*pts['t']))\n",
    "plt.xlabel('time')\n",
    "#plt.ylim([-12,10])\n",
    "#plt.xlim([0,10])\n",
    "plt.title(solver.name)"
   ]
  },
  {
   "cell_type": "code",
   "execution_count": 108,
   "metadata": {
    "collapsed": false
   },
   "outputs": [
    {
     "data": {
      "text/plain": [
       "[<matplotlib.lines.Line2D at 0x7f1d94819f50>]"
      ]
     },
     "execution_count": 108,
     "metadata": {},
     "output_type": "execute_result"
    }
   ],
   "source": [
    "plt.figure(2)\n",
    "plt.plot(pts['t'], pts['omega'])"
   ]
  },
  {
   "cell_type": "code",
   "execution_count": 142,
   "metadata": {
    "collapsed": false
   },
   "outputs": [],
   "source": [
    "#### Adaptive Hindmarsh-Rose oscillator\n",
    "# x_dot = y + 3*x^2 - x^3 - z + esp*F[I]\n",
    "# y_dot = 1 - 5*x^2 - y\n",
    "# z_dot = (x^2 + y^2 + z^2)*(4*(x + (8/5))) - z\n",
    "# F = signal [sin(8t)]\n",
    "\n",
    "DSargs = dst.args()\n",
    "DSargs.name = 'Adaptive_Hopf_Oscillator_Test'\n",
    "DSargs.pars = {'esp': 10.,\n",
    "               }\n",
    "DSargs.varspecs = {'x': 'y + 3*x^2 - x^3 - z + esp*sin(8*t)',\n",
    "                   'y': '1 - 5*x^2 - y',\n",
    "                   'z': '(x^2 + y^2 + z^2)*(4*(x + (1))) - z',\n",
    "                   }\n",
    "DSargs.ics = {'x': 1,\n",
    "              'y': 0,\n",
    "              'z': 0.,\n",
    "              }\n",
    "DSargs.tdomain = [0,20]\n",
    "solver = dst.Generator.Vode_ODEsystem(DSargs) #Vode_ODEsystem(DSargs)\n",
    "traj = solver.compute('CPG')\n",
    "pts = traj.sample(dt=0.001)"
   ]
  },
  {
   "cell_type": "code",
   "execution_count": 143,
   "metadata": {
    "collapsed": false,
    "scrolled": true
   },
   "outputs": [
    {
     "data": {
      "text/plain": [
       "<matplotlib.text.Text at 0x7f1d935484d0>"
      ]
     },
     "execution_count": 143,
     "metadata": {},
     "output_type": "execute_result"
    }
   ],
   "source": [
    "plt.plot(pts['t'], pts['x'])\n",
    "plt.plot(pts['t'], pts['y'])\n",
    "#plt.plot(pts['t'], pts['z'])\n",
    "plt.xlabel('time')\n",
    "#plt.ylim([-12,10])\n",
    "#plt.xlim([0,10])\n",
    "plt.title(solver.name)"
   ]
  },
  {
   "cell_type": "code",
   "execution_count": 108,
   "metadata": {
    "collapsed": false
   },
   "outputs": [
    {
     "data": {
      "text/plain": [
       "[<matplotlib.lines.Line2D at 0x7f1d94819f50>]"
      ]
     },
     "execution_count": 108,
     "metadata": {},
     "output_type": "execute_result"
    }
   ],
   "source": [
    "plt.figure(2)\n",
    "plt.plot(pts['t'], pts['omega'])"
   ]
  },
  {
   "cell_type": "code",
   "execution_count": null,
   "metadata": {
    "collapsed": true
   },
   "outputs": [],
   "source": []
  }
 ],
 "metadata": {
  "kernelspec": {
   "display_name": "Python 2",
   "language": "python",
   "name": "python2"
  },
  "language_info": {
   "codemirror_mode": {
    "name": "ipython",
    "version": 2
   },
   "file_extension": ".py",
   "mimetype": "text/x-python",
   "name": "python",
   "nbconvert_exporter": "python",
   "pygments_lexer": "ipython2",
   "version": "2.7.6"
  }
 },
 "nbformat": 4,
 "nbformat_minor": 0
}
